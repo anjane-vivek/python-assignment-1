{
 "cells": [
  {
   "cell_type": "markdown",
   "metadata": {},
   "source": [
    "# python assignment 1"
   ]
  },
  {
   "cell_type": "markdown",
   "metadata": {},
   "source": [
    "1. Write a program which will find all such numbers which are divisible by 7 but are not amultiple of 5, between 2000 and 3200 (both included). The numbers obtained should be printed in a comma-separated sequence on a single line."
   ]
  },
  {
   "cell_type": "code",
   "execution_count": 29,
   "metadata": {
    "scrolled": true
   },
   "outputs": [
    {
     "name": "stdout",
     "output_type": "stream",
     "text": [
      "2030 ,\t2065 ,\t2100 ,\t2135 ,\t2170 ,\t2205 ,\t2240 ,\t2275 ,\t2310 ,\t2345 ,\t2380 ,\t2415 ,\t2450 ,\t2485 ,\t2520 ,\t2555 ,\t2590 ,\t2625 ,\t2660 ,\t2695 ,\t2730 ,\t2765 ,\t2800 ,\t2835 ,\t2870 ,\t2905 ,\t2940 ,\t2975 ,\t3010 ,\t3045 ,\t3080 ,\t3115 ,\t3150 ,\t3185 ,\t"
     ]
    }
   ],
   "source": [
    "l=[]\n",
    "for i in range(2000,3201):\n",
    "    if i%7==0 and i%5==0:\n",
    "        l.append(str(i))\n",
    "        print(i,',',end='\\t')"
   ]
  },
  {
   "cell_type": "markdown",
   "metadata": {},
   "source": [
    "2. Write a Python program to accept the user's first and last name and then getting them printed in the the reverse order with a space between first name and last name."
   ]
  },
  {
   "cell_type": "code",
   "execution_count": 26,
   "metadata": {},
   "outputs": [
    {
     "name": "stdout",
     "output_type": "stream",
     "text": [
      "what is you name? Vivek\n",
      "what is your last_name?Anjane\n",
      "Anjane Vivek\n"
     ]
    }
   ],
   "source": [
    "name = input(\"what is you name? \")\n",
    "last_name =input(\"what is your last_name?\")\n",
    "print(last_name+\" \"+name)"
   ]
  },
  {
   "cell_type": "markdown",
   "metadata": {},
   "source": [
    "3. Write a Python program to find the volume of a sphere with diameter 12 cm."
   ]
  },
  {
   "cell_type": "code",
   "execution_count": 25,
   "metadata": {},
   "outputs": [
    {
     "name": "stdout",
     "output_type": "stream",
     "text": [
      "volume of a sphere is V= 904.3199999999998\n"
     ]
    }
   ],
   "source": [
    "diameter=12.0\n",
    "radius = diameter/2\n",
    "pi=3.14\n",
    "V = 4/3*pi*radius*radius*radius\n",
    "print(\"volume of a sphere is V=\",V)"
   ]
  },
  {
   "cell_type": "code",
   "execution_count": 24,
   "metadata": {},
   "outputs": [
    {
     "name": "stdout",
     "output_type": "stream",
     "text": [
      "what is the diameter of sphere?12\n",
      "volume of a sphere is V= 904.3199999999998\n"
     ]
    }
   ],
   "source": [
    "diameter=float(input(\"what is the diameter of sphere?\"))\n",
    "radius = diameter/2\n",
    "pi=3.14\n",
    "V = 4/3*pi*radius*radius*radius\n",
    "print(\"volume of a sphere is V=\",V)"
   ]
  }
 ],
 "metadata": {
  "kernelspec": {
   "display_name": "Python 3",
   "language": "python",
   "name": "python3"
  },
  "language_info": {
   "codemirror_mode": {
    "name": "ipython",
    "version": 3
   },
   "file_extension": ".py",
   "mimetype": "text/x-python",
   "name": "python",
   "nbconvert_exporter": "python",
   "pygments_lexer": "ipython3",
   "version": "3.8.3"
  }
 },
 "nbformat": 4,
 "nbformat_minor": 4
}
